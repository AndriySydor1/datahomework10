{
 "cells": [
  {
   "cell_type": "code",
   "execution_count": 13,
   "id": "f0846a1c-8b73-41f3-bd9f-73b8bc548fd9",
   "metadata": {},
   "outputs": [],
   "source": [
    "from surprise import Dataset, SVD, SVDpp, NMF, Reader\n",
    "from surprise.model_selection import cross_validate, GridSearchCV\n",
    "import pandas as pd"
   ]
  },
  {
   "cell_type": "code",
   "execution_count": 14,
   "id": "01fbd228-74f2-4dc4-bbc8-f0e6fd8fac6e",
   "metadata": {},
   "outputs": [],
   "source": [
    "# Завантаження вбудованого датасету MovieLens\n",
    "data = Dataset.load_builtin('ml-100k')"
   ]
  },
  {
   "cell_type": "code",
   "execution_count": 15,
   "id": "96d97818-26af-4158-9973-be5d13d93653",
   "metadata": {},
   "outputs": [
    {
     "name": "stdout",
     "output_type": "stream",
     "text": [
      "Кількість користувачів: 943\n",
      "Кількість фільмів: 1682\n"
     ]
    }
   ],
   "source": [
    "trainset = data.build_full_trainset()\n",
    "print(f\"Кількість користувачів: {trainset.n_users}\")\n",
    "print(f\"Кількість фільмів: {trainset.n_items}\")"
   ]
  },
  {
   "cell_type": "code",
   "execution_count": 16,
   "id": "05251360-0b25-4a3d-b3c3-d8805be31c2e",
   "metadata": {},
   "outputs": [
    {
     "name": "stdout",
     "output_type": "stream",
     "text": [
      "Evaluating RMSE, MAE of algorithm SVD on 5 split(s).\n",
      "\n",
      "                  Fold 1  Fold 2  Fold 3  Fold 4  Fold 5  Mean    Std     \n",
      "RMSE (testset)    0.9313  0.9294  0.9403  0.9333  0.9429  0.9354  0.0053  \n",
      "MAE (testset)     0.7328  0.7338  0.7429  0.7334  0.7432  0.7372  0.0048  \n",
      "Fit time          1.47    1.30    1.41    1.40    1.34    1.39    0.06    \n",
      "Test time         0.23    0.21    0.19    0.28    0.39    0.26    0.07    \n"
     ]
    },
    {
     "data": {
      "text/plain": [
       "{'test_rmse': array([0.93126671, 0.92939285, 0.94029815, 0.9332832 , 0.94294453]),\n",
       " 'test_mae': array([0.7328445 , 0.73379473, 0.74294821, 0.73343771, 0.74319686]),\n",
       " 'fit_time': (1.4674794673919678,\n",
       "  1.3049046993255615,\n",
       "  1.4127252101898193,\n",
       "  1.4030647277832031,\n",
       "  1.341623067855835),\n",
       " 'test_time': (0.2311241626739502,\n",
       "  0.20819520950317383,\n",
       "  0.18958020210266113,\n",
       "  0.2844536304473877,\n",
       "  0.3929898738861084)}"
      ]
     },
     "execution_count": 16,
     "metadata": {},
     "output_type": "execute_result"
    }
   ],
   "source": [
    "from surprise import SVD\n",
    "from surprise.model_selection import cross_validate\n",
    "\n",
    "# Ініціалізація алгоритму SVD\n",
    "algo = SVD()\n",
    "\n",
    "# Крос-валідація\n",
    "cross_validate(algo, data, measures=['RMSE', 'MAE'], cv=5, verbose=True)"
   ]
  },
  {
   "cell_type": "code",
   "execution_count": 17,
   "id": "e3f7c990-4b15-426e-915c-11ad6671adec",
   "metadata": {},
   "outputs": [
    {
     "name": "stdout",
     "output_type": "stream",
     "text": [
      "Evaluating RMSE, MAE of algorithm SVDpp on 5 split(s).\n",
      "\n",
      "                  Fold 1  Fold 2  Fold 3  Fold 4  Fold 5  Mean    Std     \n",
      "RMSE (testset)    0.9214  0.9166  0.9172  0.9236  0.9112  0.9180  0.0043  \n",
      "MAE (testset)     0.7244  0.7206  0.7185  0.7229  0.7141  0.7201  0.0036  \n",
      "Fit time          47.29   47.36   45.86   45.72   43.32   45.91   1.47    \n",
      "Test time         6.04    6.39    5.96    6.31    6.33    6.21    0.17    \n",
      "Evaluating RMSE, MAE of algorithm NMF on 5 split(s).\n",
      "\n",
      "                  Fold 1  Fold 2  Fold 3  Fold 4  Fold 5  Mean    Std     \n",
      "RMSE (testset)    0.9540  0.9682  0.9591  0.9652  0.9611  0.9615  0.0049  \n",
      "MAE (testset)     0.7496  0.7603  0.7554  0.7596  0.7558  0.7561  0.0038  \n",
      "Fit time          2.34    2.48    2.55    2.77    2.57    2.54    0.14    \n",
      "Test time         0.16    0.18    0.19    0.17    0.37    0.21    0.08    \n"
     ]
    },
    {
     "data": {
      "text/plain": [
       "{'test_rmse': array([0.95403826, 0.96824729, 0.95914709, 0.96523601, 0.9610629 ]),\n",
       " 'test_mae': array([0.74960903, 0.76033382, 0.7554178 , 0.75962022, 0.75576163]),\n",
       " 'fit_time': (2.3389604091644287,\n",
       "  2.4766111373901367,\n",
       "  2.546555280685425,\n",
       "  2.7681117057800293,\n",
       "  2.5666942596435547),\n",
       " 'test_time': (0.16260004043579102,\n",
       "  0.17914676666259766,\n",
       "  0.18867182731628418,\n",
       "  0.17335987091064453,\n",
       "  0.36916542053222656)}"
      ]
     },
     "execution_count": 17,
     "metadata": {},
     "output_type": "execute_result"
    }
   ],
   "source": [
    "from surprise import SVDpp, NMF\n",
    "\n",
    "# Ініціалізація та оцінка SVD++\n",
    "algo_svdpp = SVDpp()\n",
    "cross_validate(algo_svdpp, data, measures=['RMSE', 'MAE'], cv=5, verbose=True)\n",
    "\n",
    "# Ініціалізація та оцінка NMF\n",
    "algo_nmf = NMF()\n",
    "cross_validate(algo_nmf, data, measures=['RMSE', 'MAE'], cv=5, verbose=True)"
   ]
  },
  {
   "cell_type": "code",
   "execution_count": 18,
   "id": "1cdf65a3-4dce-4e06-992a-a81cab5041fb",
   "metadata": {},
   "outputs": [],
   "source": [
    "param_grid = {\n",
    "    'n_factors': [50],  \n",
    "    'n_epochs': [10],   \n",
    "    'reg_all': [0.02]\n",
    "}\n",
    "gs = GridSearchCV(SVDpp, param_grid, measures=['rmse', 'mae'], cv=3)  \n",
    "gs.fit(data)"
   ]
  },
  {
   "cell_type": "code",
   "execution_count": 19,
   "id": "f54f244b-90b2-493e-b5a8-e90c944e6828",
   "metadata": {},
   "outputs": [
    {
     "name": "stdout",
     "output_type": "stream",
     "text": [
      "Evaluating RMSE, MAE of algorithm SVDpp on 5 split(s).\n",
      "\n",
      "                  Fold 1  Fold 2  Fold 3  Fold 4  Fold 5  Mean    Std     \n",
      "RMSE (testset)    0.9183  0.9144  0.9201  0.9147  0.9210  0.9177  0.0027  \n",
      "MAE (testset)     0.7214  0.7177  0.7199  0.7168  0.7235  0.7199  0.0024  \n",
      "Fit time          46.90   44.50   49.35   44.88   46.46   46.42   1.73    \n",
      "Test time         6.33    6.27    6.56    5.90    6.05    6.22    0.23    \n",
      "Evaluating RMSE, MAE of algorithm NMF on 5 split(s).\n",
      "\n",
      "                  Fold 1  Fold 2  Fold 3  Fold 4  Fold 5  Mean    Std     \n",
      "RMSE (testset)    0.9680  0.9592  0.9644  0.9662  0.9664  0.9648  0.0031  \n",
      "MAE (testset)     0.7634  0.7537  0.7567  0.7588  0.7590  0.7583  0.0032  \n",
      "Fit time          2.66    2.51    2.64    2.59    2.52    2.58    0.06    \n",
      "Test time         0.38    0.16    0.18    0.42    0.17    0.26    0.11    \n"
     ]
    }
   ],
   "source": [
    "algo_svdpp = SVDpp()\n",
    "results_svdpp = cross_validate(algo_svdpp, data, measures=['RMSE', 'MAE'], cv=5, verbose=True)\n",
    "\n",
    "algo_nmf = NMF()\n",
    "results_nmf = cross_validate(algo_nmf, data, measures=['RMSE', 'MAE'], cv=5, verbose=True)"
   ]
  },
  {
   "cell_type": "code",
   "execution_count": null,
   "id": "c0e14ced-1166-4c89-88b2-cb13abf69530",
   "metadata": {},
   "outputs": [],
   "source": [
    "Порівняння результатів:\n",
    "SVD++:\n",
    "RMSE: 0.9191 (найкраще значення серед усіх алгоритмів)\n",
    "MAE: 0.7211 (найкраще значення серед усіх алгоритмів)\n",
    "Час тренування: Високий (51.62 секунд у середньому)\n",
    "Час тестування: Високий (6.73 секунд у середньому)\n",
    "NMF:\n",
    "RMSE: 0.9618 (гірше, ніж у SVD і SVD++)\n",
    "MAE: 0.7557 (гірше, ніж у SVD і SVD++)\n",
    "Час тренування: Низький (2.53 секунд у середньому)\n",
    "Час тестування: Низький (0.26 секунд у середньому)\n",
    "Попередній SVD:\n",
    "RMSE: 0.9373 (середнє значення між SVD++ і NMF)\n",
    "MAE: 0.7392 (середнє значення між SVD++ і NMF)\n",
    "Час тренування: Помірний (1.43 секунд у середньому)\n",
    "Час тестування: Низький (0.30 секунд у середньому)\n",
    "Висновки:\n",
    "Точність:\n",
    "\n",
    "Алгоритм SVD++ забезпечує найнижчі RMSE і MAE, тому він є найкращим вибором для точності.\n",
    "Алгоритм NMF показує найгірші результати в точності, але все ще є прийнятним.\n",
    "Швидкість:\n",
    "\n",
    "NMF тренується і тестується найшвидше. Якщо обчислювальні ресурси обмежені, NMF може бути практичним вибором.\n",
    "SVD++ потребує більше часу на тренування і тестування, що слід враховувати в умовах великих даних.\n",
    "Рекомендація:\n",
    "\n",
    "Використовуйте SVD++ для задач, де точність є критичною.\n",
    "Використовуйте SVD, якщо потрібен компроміс між точністю і часом обробки.\n",
    "Використовуйте NMF, якщо важлива швидкість роботи.\n"
   ]
  },
  {
   "cell_type": "code",
   "execution_count": 20,
   "id": "e9aac1fd-a04c-45c1-95e6-81462a6f7d60",
   "metadata": {},
   "outputs": [
    {
     "name": "stdout",
     "output_type": "stream",
     "text": [
      "   userId  movieId  rating  timestamp\n",
      "0       1        1     4.0  964982703\n",
      "1       1        3     4.0  964981247\n",
      "2       1        6     4.0  964982224\n",
      "3       1       47     5.0  964983815\n",
      "4       1       50     5.0  964982931\n",
      "   movieId                               title  \\\n",
      "0        1                    Toy Story (1995)   \n",
      "1        2                      Jumanji (1995)   \n",
      "2        3             Grumpier Old Men (1995)   \n",
      "3        4            Waiting to Exhale (1995)   \n",
      "4        5  Father of the Bride Part II (1995)   \n",
      "\n",
      "                                        genres  \n",
      "0  Adventure|Animation|Children|Comedy|Fantasy  \n",
      "1                   Adventure|Children|Fantasy  \n",
      "2                               Comedy|Romance  \n",
      "3                         Comedy|Drama|Romance  \n",
      "4                                       Comedy  \n"
     ]
    }
   ],
   "source": [
    "import pandas as pd\n",
    "import numpy as np\n",
    "\n",
    "# Завантажуємо дані\n",
    "ratings = pd.read_csv(\"ratings.csv\")  # Завантаження рейтингового файлу\n",
    "movies = pd.read_csv(\"movies.csv\")    # Завантаження назви фільмів\n",
    "\n",
    "# Виведемо інформацію про дані\n",
    "print(ratings.head())\n",
    "print(movies.head())"
   ]
  },
  {
   "cell_type": "code",
   "execution_count": 21,
   "id": "d44e494c-8a99-4b42-81b1-bbf735b3f117",
   "metadata": {},
   "outputs": [],
   "source": [
    "# Об'єднання таблиць\n",
    "merged_data = pd.merge(ratings, movies, on=\"movieId\")\n"
   ]
  },
  {
   "cell_type": "code",
   "execution_count": 22,
   "id": "4cc992a1-2628-4105-bacb-697d5747f7ba",
   "metadata": {
    "scrolled": true
   },
   "outputs": [
    {
     "name": "stdout",
     "output_type": "stream",
     "text": [
      "   userId  movieId  rating  timestamp                        title  \\\n",
      "0       1        1     4.0  964982703             Toy Story (1995)   \n",
      "1       1        3     4.0  964981247      Grumpier Old Men (1995)   \n",
      "2       1        6     4.0  964982224                  Heat (1995)   \n",
      "3       1       47     5.0  964983815  Seven (a.k.a. Se7en) (1995)   \n",
      "4       1       50     5.0  964982931   Usual Suspects, The (1995)   \n",
      "\n",
      "                                        genres  \n",
      "0  Adventure|Animation|Children|Comedy|Fantasy  \n",
      "1                               Comedy|Romance  \n",
      "2                        Action|Crime|Thriller  \n",
      "3                             Mystery|Thriller  \n",
      "4                       Crime|Mystery|Thriller  \n"
     ]
    }
   ],
   "source": [
    "print(merged_data.head())"
   ]
  },
  {
   "cell_type": "code",
   "execution_count": 13,
   "id": "96231f60-f59b-4970-bf28-9a881876b174",
   "metadata": {
    "scrolled": true
   },
   "outputs": [
    {
     "name": "stdout",
     "output_type": "stream",
     "text": [
      "Collecting matplotlib\n",
      "  Downloading matplotlib-3.9.3-cp310-cp310-manylinux_2_17_x86_64.manylinux2014_x86_64.whl (8.3 MB)\n",
      "\u001b[2K     \u001b[90m━━━━━━━━━━━━━━━━━━━━━━━━━━━━━━━━━━━━━━━━\u001b[0m \u001b[32m8.3/8.3 MB\u001b[0m \u001b[31m8.6 MB/s\u001b[0m eta \u001b[36m0:00:00\u001b[0m00:01\u001b[0m00:01\u001b[0m\n",
      "Collecting pyparsing>=2.3.1\n",
      "  Downloading pyparsing-3.2.0-py3-none-any.whl (106 kB)\n",
      "\u001b[2K     \u001b[90m━━━━━━━━━━━━━━━━━━━━━━━━━━━━━━━━━━━━━━━\u001b[0m \u001b[32m106.9/106.9 kB\u001b[0m \u001b[31m6.3 MB/s\u001b[0m eta \u001b[36m0:00:00\u001b[0m\n",
      "Collecting cycler>=0.10\n",
      "  Downloading cycler-0.12.1-py3-none-any.whl (8.3 kB)\n",
      "Collecting pillow>=8\n",
      "  Downloading pillow-11.0.0-cp310-cp310-manylinux_2_28_x86_64.whl (4.4 MB)\n",
      "\u001b[2K     \u001b[90m━━━━━━━━━━━━━━━━━━━━━━━━━━━━━━━━━━━━━━━━\u001b[0m \u001b[32m4.4/4.4 MB\u001b[0m \u001b[31m8.6 MB/s\u001b[0m eta \u001b[36m0:00:00\u001b[0m00:01\u001b[0mm00:01\u001b[0m\n",
      "Requirement already satisfied: python-dateutil>=2.7 in /usr/local/lib/python3.10/site-packages (from matplotlib) (2.9.0.post0)\n",
      "Requirement already satisfied: packaging>=20.0 in /usr/local/lib/python3.10/site-packages (from matplotlib) (24.2)\n",
      "Collecting contourpy>=1.0.1\n",
      "  Downloading contourpy-1.3.1-cp310-cp310-manylinux_2_17_x86_64.manylinux2014_x86_64.whl (324 kB)\n",
      "\u001b[2K     \u001b[90m━━━━━━━━━━━━━━━━━━━━━━━━━━━━━━━━━━━━━━━\u001b[0m \u001b[32m325.0/325.0 kB\u001b[0m \u001b[31m7.8 MB/s\u001b[0m eta \u001b[36m0:00:00\u001b[0m00:01\u001b[0m\n",
      "Collecting fonttools>=4.22.0\n",
      "  Downloading fonttools-4.55.3-cp310-cp310-manylinux_2_17_x86_64.manylinux2014_x86_64.whl (4.6 MB)\n",
      "\u001b[2K     \u001b[90m━━━━━━━━━━━━━━━━━━━━━━━━━━━━━━━━━━━━━━━━\u001b[0m \u001b[32m4.6/4.6 MB\u001b[0m \u001b[31m10.7 MB/s\u001b[0m eta \u001b[36m0:00:00\u001b[0m00:01\u001b[0m00:01\u001b[0m\n",
      "Collecting kiwisolver>=1.3.1\n",
      "  Downloading kiwisolver-1.4.7-cp310-cp310-manylinux_2_12_x86_64.manylinux2010_x86_64.whl (1.6 MB)\n",
      "\u001b[2K     \u001b[90m━━━━━━━━━━━━━━━━━━━━━━━━━━━━━━━━━━━━━━━━\u001b[0m \u001b[32m1.6/1.6 MB\u001b[0m \u001b[31m9.9 MB/s\u001b[0m eta \u001b[36m0:00:00\u001b[0m:00:01\u001b[0m00:01\u001b[0m\n",
      "\u001b[?25hRequirement already satisfied: numpy>=1.23 in /usr/local/lib/python3.10/site-packages (from matplotlib) (1.26.4)\n",
      "Requirement already satisfied: six>=1.5 in /usr/local/lib/python3.10/site-packages (from python-dateutil>=2.7->matplotlib) (1.17.0)\n",
      "Installing collected packages: pyparsing, pillow, kiwisolver, fonttools, cycler, contourpy, matplotlib\n",
      "Successfully installed contourpy-1.3.1 cycler-0.12.1 fonttools-4.55.3 kiwisolver-1.4.7 matplotlib-3.9.3 pillow-11.0.0 pyparsing-3.2.0\n",
      "\u001b[33mWARNING: Running pip as the 'root' user can result in broken permissions and conflicting behaviour with the system package manager. It is recommended to use a virtual environment instead: https://pip.pypa.io/warnings/venv\u001b[0m\u001b[33m\n",
      "\u001b[0m\n",
      "\u001b[1m[\u001b[0m\u001b[34;49mnotice\u001b[0m\u001b[1;39;49m]\u001b[0m\u001b[39;49m A new release of pip is available: \u001b[0m\u001b[31;49m23.0.1\u001b[0m\u001b[39;49m -> \u001b[0m\u001b[32;49m24.3.1\u001b[0m\n",
      "\u001b[1m[\u001b[0m\u001b[34;49mnotice\u001b[0m\u001b[1;39;49m]\u001b[0m\u001b[39;49m To update, run: \u001b[0m\u001b[32;49mpip install --upgrade pip\u001b[0m\n"
     ]
    }
   ],
   "source": [
    "!pip install matplotlib"
   ]
  },
  {
   "cell_type": "code",
   "execution_count": 1,
   "id": "89d50754-ba8e-4887-b11c-177de3499edc",
   "metadata": {},
   "outputs": [],
   "source": [
    "import matplotlib.pyplot as plt\n",
    "import pandas as pd"
   ]
  },
  {
   "cell_type": "code",
   "execution_count": 3,
   "id": "6184ddc9-6b1b-4b05-bfca-7bf8e7604311",
   "metadata": {},
   "outputs": [
    {
     "name": "stdout",
     "output_type": "stream",
     "text": [
      "   userId  movieId  rating  timestamp                        title  \\\n",
      "0       1        1     4.0  964982703             Toy Story (1995)   \n",
      "1       1        3     4.0  964981247      Grumpier Old Men (1995)   \n",
      "2       1        6     4.0  964982224                  Heat (1995)   \n",
      "3       1       47     5.0  964983815  Seven (a.k.a. Se7en) (1995)   \n",
      "4       1       50     5.0  964982931   Usual Suspects, The (1995)   \n",
      "\n",
      "                                        genres  \n",
      "0  Adventure|Animation|Children|Comedy|Fantasy  \n",
      "1                               Comedy|Romance  \n",
      "2                        Action|Crime|Thriller  \n",
      "3                             Mystery|Thriller  \n",
      "4                       Crime|Mystery|Thriller  \n"
     ]
    }
   ],
   "source": [
    "# Завантаження даних\n",
    "ratings = pd.read_csv(\"ratings.csv\")  # Завантаження рейтингового файлу\n",
    "movies = pd.read_csv(\"movies.csv\")    # Завантаження назви фільмів\n",
    "\n",
    "# Об'єднання таблиць\n",
    "merged_data = pd.merge(ratings, movies, on=\"movieId\")\n",
    "\n",
    "# Перевірка результатів\n",
    "print(merged_data.head())"
   ]
  },
  {
   "cell_type": "code",
   "execution_count": 4,
   "id": "27a3a07e-692b-49f3-a999-537765fceb86",
   "metadata": {},
   "outputs": [
    {
     "data": {
      "image/png": "[encoded data removed]",
      "text/plain": [
       "<Figure size 640x480 with 1 Axes>"
      ]
     },
     "metadata": {},
     "output_type": "display_data"
    }
   ],
   "source": [
    "# Розподіл рейтингів\n",
    "plt.hist(merged_data['rating'], bins=10, edgecolor='black')\n",
    "plt.title('Розподіл рейтингів')\n",
    "plt.xlabel('Рейтинг')\n",
    "plt.ylabel('Частота')\n",
    "plt.show()"
   ]
  },
  {
   "cell_type": "code",
   "execution_count": 5,
   "id": "37af2dba-8932-4c4d-a5ba-3d1cd6fb50a0",
   "metadata": {},
   "outputs": [
    {
     "name": "stdout",
     "output_type": "stream",
     "text": [
      "Топ-10 фільмів за середнім рейтингом:\n",
      "title\n",
      "Gena the Crocodile (1969)                    5.0\n",
      "True Stories (1986)                          5.0\n",
      "Cosmic Scrat-tastrophe (2015)                5.0\n",
      "Love and Pigeons (1985)                      5.0\n",
      "Red Sorghum (Hong gao liang) (1987)          5.0\n",
      "Thin Line Between Love and Hate, A (1996)    5.0\n",
      "Lesson Faust (1994)                          5.0\n",
      "Eva (2011)                                   5.0\n",
      "Who Killed Chea Vichea? (2010)               5.0\n",
      "Siam Sunset (1999)                           5.0\n",
      "Name: rating, dtype: float64\n"
     ]
    }
   ],
   "source": [
    "top_movies = merged_data.groupby('title')['rating'].mean().sort_values(ascending=False).head(10)\n",
    "print(\"Топ-10 фільмів за середнім рейтингом:\")\n",
    "print(top_movies)"
   ]
  },
  {
   "cell_type": "code",
   "execution_count": 6,
   "id": "47962b49-c5c3-41ca-9d3b-71eb9da3cbfb",
   "metadata": {},
   "outputs": [
    {
     "name": "stdout",
     "output_type": "stream",
     "text": [
      "Топ-10 фільмів за кількістю оцінок:\n",
      "title\n",
      "Forrest Gump (1994)                          329\n",
      "Shawshank Redemption, The (1994)             317\n",
      "Pulp Fiction (1994)                          307\n",
      "Silence of the Lambs, The (1991)             279\n",
      "Matrix, The (1999)                           278\n",
      "Star Wars: Episode IV - A New Hope (1977)    251\n",
      "Jurassic Park (1993)                         238\n",
      "Braveheart (1995)                            237\n",
      "Terminator 2: Judgment Day (1991)            224\n",
      "Schindler's List (1993)                      220\n",
      "Name: rating, dtype: int64\n"
     ]
    }
   ],
   "source": [
    "most_rated_movies = merged_data.groupby('title')['rating'].count().sort_values(ascending=False).head(10)\n",
    "print(\"Топ-10 фільмів за кількістю оцінок:\")\n",
    "print(most_rated_movies)"
   ]
  },
  {
   "cell_type": "code",
   "execution_count": 7,
   "id": "2e184dde-6ea1-4915-a3db-246dbf809bf1",
   "metadata": {},
   "outputs": [],
   "source": [
    "from surprise import Dataset, Reader\n"
   ]
  },
  {
   "cell_type": "code",
   "execution_count": 8,
   "id": "4c1bb6e0-fab5-4d44-b130-73f38a885ed3",
   "metadata": {},
   "outputs": [],
   "source": [
    "# Підготовка даних\n",
    "reader = Reader(rating_scale=(0.5, 5.0))\n",
    "data = Dataset.load_from_df(ratings[['userId', 'movieId', 'rating']], reader)"
   ]
  },
  {
   "cell_type": "code",
   "execution_count": 9,
   "id": "9f2d851c-c1f4-4094-82a4-a7dee85d75a6",
   "metadata": {},
   "outputs": [
    {
     "name": "stdout",
     "output_type": "stream",
     "text": [
      "Evaluating RMSE, MAE of algorithm SVD on 5 split(s).\n",
      "\n",
      "                  Fold 1  Fold 2  Fold 3  Fold 4  Fold 5  Mean    Std     \n",
      "RMSE (testset)    0.8748  0.8669  0.8706  0.8812  0.8747  0.8737  0.0048  \n",
      "MAE (testset)     0.6740  0.6695  0.6700  0.6733  0.6703  0.6714  0.0018  \n",
      "Fit time          2.06    1.49    1.49    1.50    1.69    1.65    0.22    \n",
      "Test time         0.22    0.38    0.20    0.33    0.19    0.26    0.08    \n"
     ]
    },
    {
     "data": {
      "text/plain": [
       "{'test_rmse': array([0.87484278, 0.86691557, 0.87058773, 0.88119838, 0.87471025]),\n",
       " 'test_mae': array([0.67398321, 0.66954025, 0.67000114, 0.673273  , 0.67029936]),\n",
       " 'fit_time': (2.0555121898651123,\n",
       "  1.4935777187347412,\n",
       "  1.4935712814331055,\n",
       "  1.4952447414398193,\n",
       "  1.688197135925293),\n",
       " 'test_time': (0.2248067855834961,\n",
       "  0.3811354637145996,\n",
       "  0.19669055938720703,\n",
       "  0.3349769115447998,\n",
       "  0.18506479263305664)}"
      ]
     },
     "execution_count": 9,
     "metadata": {},
     "output_type": "execute_result"
    }
   ],
   "source": [
    "from surprise import SVD\n",
    "from surprise.model_selection import cross_validate\n",
    "\n",
    "algo = SVD()\n",
    "\n",
    "# Крос-валідація\n",
    "cross_validate(algo, data, measures=['RMSE', 'MAE'], cv=5, verbose=True)\n"
   ]
  },
  {
   "cell_type": "code",
   "execution_count": 11,
   "id": "00953686-c366-4ddc-8f74-9f9456d25bea",
   "metadata": {},
   "outputs": [
    {
     "data": {
      "text/plain": [
       "<surprise.prediction_algorithms.matrix_factorization.SVD at 0x7efd0d38b9a0>"
      ]
     },
     "execution_count": 11,
     "metadata": {},
     "output_type": "execute_result"
    }
   ],
   "source": [
    "# Побудова повного тренувального набору\n",
    "trainset = data.build_full_trainset()\n",
    "algo.fit(trainset)"
   ]
  },
  {
   "cell_type": "code",
   "execution_count": 12,
   "id": "edd3625f-a757-4620-b542-161a11830a43",
   "metadata": {},
   "outputs": [
    {
     "name": "stdout",
     "output_type": "stream",
     "text": [
      "Прогноз для користувача 1 на фільм 10: 4.131236147821404\n"
     ]
    }
   ],
   "source": [
    "# Прогноз для користувача\n",
    "user_id = 1  # Вкажіть ID користувача\n",
    "movie_id = 10  # Вкажіть ID фільму\n",
    "prediction = algo.predict(user_id, movie_id)\n",
    "print(f\"Прогноз для користувача {user_id} на фільм {movie_id}: {prediction.est}\")\n"
   ]
  },
  {
   "cell_type": "code",
   "execution_count": null,
   "id": "f90122ae-d505-4a60-92fe-331b79a0438d",
   "metadata": {},
   "outputs": [],
   "source": [
    "Це означає, що на основі моделі SVD користувач 1 ймовірно оцінить фільм 10 на 4.13 (за шкалою оцінювання)."
   ]
  }
 ],
 "metadata": {
  "kernelspec": {
   "display_name": "Python 3 (ipykernel)",
   "language": "python",
   "name": "python3"
  },
  "language_info": {
   "codemirror_mode": {
    "name": "ipython",
    "version": 3
   },
   "file_extension": ".py",
   "mimetype": "text/x-python",
   "name": "python",
   "nbconvert_exporter": "python",
   "pygments_lexer": "ipython3",
   "version": "3.10.16"
  }
 },
 "nbformat": 4,
 "nbformat_minor": 5
}
